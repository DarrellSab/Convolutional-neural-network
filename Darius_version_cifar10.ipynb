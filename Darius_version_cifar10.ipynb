{
  "nbformat": 4,
  "nbformat_minor": 0,
  "metadata": {
    "colab": {
      "name": "Darius_version_cifar10.ipynb",
      "version": "0.3.2",
      "provenance": [],
      "toc_visible": true,
      "include_colab_link": true
    },
    "kernelspec": {
      "name": "python3",
      "display_name": "Python 3"
    },
    "accelerator": "GPU"
  },
  "cells": [
    {
      "cell_type": "markdown",
      "metadata": {
        "id": "view-in-github",
        "colab_type": "text"
      },
      "source": [
        "<a href=\"https://colab.research.google.com/github/DarrellSab/Convolutional-neural-network/blob/master/Darius_version_cifar10.ipynb\" target=\"_parent\"><img src=\"https://colab.research.google.com/assets/colab-badge.svg\" alt=\"Open In Colab\"/></a>"
      ]
    },
    {
      "metadata": {
        "id": "ps6VA4r1C_wm",
        "colab_type": "text"
      },
      "cell_type": "markdown",
      "source": [
        "# Image recognition from dataset CIFAR-10\n",
        "\n",
        "\n",
        "If you want to deploy or edit code you should save (File->Save a copy in Drive...). And yoy copy you would use for you purpose."
      ]
    },
    {
      "metadata": {
        "id": "T6hmBuIyjRUu",
        "colab_type": "code",
        "outputId": "4d8bc294-ddc7-44bd-bc14-cdf2f1ddab16",
        "colab": {
          "base_uri": "https://localhost:8080/",
          "height": 35
        }
      },
      "cell_type": "code",
      "source": [
        "import numpy as np\n",
        "from keras.datasets import cifar10\n",
        "from keras.models import Sequential\n",
        "from keras.layers import Dense, Flatten\n",
        "from keras.layers import Dropout\n",
        "from keras.layers.convolutional import Conv2D, MaxPooling2D\n",
        "from keras.utils import np_utils\n",
        "from keras.preprocessing import image\n",
        "import matplotlib.pyplot as plt\n",
        "from scipy.misc import toimage\n",
        "%matplotlib inline "
      ],
      "execution_count": 1,
      "outputs": [
        {
          "output_type": "stream",
          "text": [
            "Using TensorFlow backend.\n"
          ],
          "name": "stderr"
        }
      ]
    },
    {
      "metadata": {
        "id": "PfEKaHglj2VL",
        "colab_type": "code",
        "colab": {}
      },
      "cell_type": "code",
      "source": [
        "# Size of mini-batch\n",
        "batch_size = 128\n",
        "# Number of the classes of the images\n",
        "nb_classes = 10\n",
        "# Number of epoch for training\n",
        "nb_epoch = 20\n",
        "# The size of  image\n",
        "img_rows, img_cols = 32, 32\n",
        "# Number of channels: RGB\n",
        "img_channels = 3\n",
        "# Names of classes from dataset CIFAR-10\n",
        "classes=['airplane', 'automobile', 'bird', 'cat', 'deer', 'dog', 'frog', 'horse', 'ship', 'truck']"
      ],
      "execution_count": 0,
      "outputs": []
    },
    {
      "metadata": {
        "id": "Tt2d0pKXDR1c",
        "colab_type": "text"
      },
      "cell_type": "markdown",
      "source": [
        "## The data preparing"
      ]
    },
    {
      "metadata": {
        "id": "kzQx_ZOZDNYV",
        "colab_type": "text"
      },
      "cell_type": "markdown",
      "source": [
        "**Load the data**"
      ]
    },
    {
      "metadata": {
        "id": "ARLcknFUj4Oc",
        "colab_type": "code",
        "colab": {}
      },
      "cell_type": "code",
      "source": [
        "(X_train, y_train), (X_test, y_test) = cifar10.load_data()"
      ],
      "execution_count": 0,
      "outputs": []
    },
    {
      "metadata": {
        "id": "1EJSbfDoDrnV",
        "colab_type": "text"
      },
      "cell_type": "markdown",
      "source": [
        "![alt text](https://)**Review of the samples**"
      ]
    },
    {
      "metadata": {
        "id": "KCXgj92ckE-J",
        "colab_type": "code",
        "outputId": "5472e57f-3964-433b-e2d0-107eaf1e0fad",
        "colab": {
          "base_uri": "https://localhost:8080/",
          "height": 302
        }
      },
      "cell_type": "code",
      "source": [
        "n = 1515\n",
        "plt.imshow(toimage(X_train[n]))\n",
        "plt.show()\n",
        "print(\"Number of class:\", y_train[n])\n",
        "print(\"Object type:\", classes[y_train[n][0]])"
      ],
      "execution_count": 4,
      "outputs": [
        {
          "output_type": "display_data",
          "data": {
            "image/png": "[encoded data removed]",
            "text/plain": [
              "<matplotlib.figure.Figure at 0x7f5d9001ea58>"
            ]
          },
          "metadata": {
            "tags": []
          }
        },
        {
          "output_type": "stream",
          "text": [
            "Number of class: [8]\n",
            "Object type: ship\n"
          ],
          "name": "stdout"
        }
      ]
    },
    {
      "metadata": {
        "id": "2kyCZJECE5Vu",
        "colab_type": "text"
      },
      "cell_type": "markdown",
      "source": [
        "**Normalize the data**"
      ]
    },
    {
      "metadata": {
        "id": "C33r-0yNkJUA",
        "colab_type": "code",
        "colab": {}
      },
      "cell_type": "code",
      "source": [
        "X_train = X_train.astype('float32')\n",
        "X_test = X_test.astype('float32')\n",
        "X_train /= 255\n",
        "X_test /= 255"
      ],
      "execution_count": 0,
      "outputs": []
    },
    {
      "metadata": {
        "id": "qj07Mr7CE9Zt",
        "colab_type": "text"
      },
      "cell_type": "markdown",
      "source": [
        "**Change correct answers to format one hot encoding**"
      ]
    },
    {
      "metadata": {
        "id": "VHzeTThQFEs1",
        "colab_type": "code",
        "colab": {}
      },
      "cell_type": "code",
      "source": [
        "Y_train = np_utils.to_categorical(y_train, nb_classes)\n",
        "Y_test = np_utils.to_categorical(y_test, nb_classes)"
      ],
      "execution_count": 0,
      "outputs": []
    },
    {
      "metadata": {
        "id": "mnT8h77PFLXu",
        "colab_type": "text"
      },
      "cell_type": "markdown",
      "source": [
        "## Creating neural net"
      ]
    },
    {
      "metadata": {
        "id": "U0MLXRCqkPGC",
        "colab_type": "code",
        "colab": {}
      },
      "cell_type": "code",
      "source": [
        "# Creating sequential model\n",
        "model = Sequential()\n",
        "# The first convolution layer\n",
        "model.add(Conv2D(128, (3, 3), padding='same',\n",
        "                        input_shape=(32, 32, 3), activation='relu'))\n",
        "#The second convolution layer\n",
        "model.add(Conv2D(128, (3, 3), activation='relu', padding='same'))\n",
        "# The first layer of pooling\n",
        "model.add(MaxPooling2D(pool_size=(2, 2)))\n",
        "# The layer of regulazation Dropout\n",
        "model.add(Dropout(0.25))\n",
        "\n",
        "# The third convolution layer\n",
        "model.add(Conv2D(128, (3, 3), padding='same', activation='relu'))\n",
        "# The forth convolution layer\n",
        "model.add(Conv2D(128, (3, 3), activation='relu'))\n",
        "# The second layer of pooling\n",
        "model.add(MaxPooling2D(pool_size=(2, 2)))\n",
        "# The layer of regularization of Dropout\n",
        "model.add(Dropout(0.25))\n",
        "# The layer that change from 2D to flatten state\n",
        "model.add(Flatten())\n",
        "# Fully connected layer\n",
        "model.add(Dense(1024, activation='relu'))\n",
        "# The layer of regularization of Dropout\n",
        "model.add(Dropout(0.5))\n",
        "# Output layer\n",
        "model.add(Dense(nb_classes, activation='softmax'))"
      ],
      "execution_count": 0,
      "outputs": []
    },
    {
      "metadata": {
        "id": "hBCmSlqqFgvd",
        "colab_type": "text"
      },
      "cell_type": "markdown",
      "source": [
        "**Printing information about the net**"
      ]
    },
    {
      "metadata": {
        "id": "QwTq8WR1Frx9",
        "colab_type": "code",
        "outputId": "5bd08707-ee9e-45a8-de18-61706c5eab9d",
        "colab": {
          "base_uri": "https://localhost:8080/",
          "height": 593
        }
      },
      "cell_type": "code",
      "source": [
        "print(model.summary())"
      ],
      "execution_count": 9,
      "outputs": [
        {
          "output_type": "stream",
          "text": [
            "_________________________________________________________________\n",
            "Layer (type)                 Output Shape              Param #   \n",
            "=================================================================\n",
            "conv2d_1 (Conv2D)            (None, 32, 32, 32)        896       \n",
            "_________________________________________________________________\n",
            "conv2d_2 (Conv2D)            (None, 32, 32, 32)        9248      \n",
            "_________________________________________________________________\n",
            "max_pooling2d_1 (MaxPooling2 (None, 16, 16, 32)        0         \n",
            "_________________________________________________________________\n",
            "dropout_1 (Dropout)          (None, 16, 16, 32)        0         \n",
            "_________________________________________________________________\n",
            "conv2d_3 (Conv2D)            (None, 16, 16, 128)       36992     \n",
            "_________________________________________________________________\n",
            "conv2d_4 (Conv2D)            (None, 14, 14, 128)       147584    \n",
            "_________________________________________________________________\n",
            "max_pooling2d_2 (MaxPooling2 (None, 7, 7, 128)         0         \n",
            "_________________________________________________________________\n",
            "dropout_2 (Dropout)          (None, 7, 7, 128)         0         \n",
            "_________________________________________________________________\n",
            "flatten_1 (Flatten)          (None, 6272)              0         \n",
            "_________________________________________________________________\n",
            "dense_1 (Dense)              (None, 512)               3211776   \n",
            "_________________________________________________________________\n",
            "dropout_3 (Dropout)          (None, 512)               0         \n",
            "_________________________________________________________________\n",
            "dense_2 (Dense)              (None, 10)                5130      \n",
            "=================================================================\n",
            "Total params: 3,411,626\n",
            "Trainable params: 3,411,626\n",
            "Non-trainable params: 0\n",
            "_________________________________________________________________\n",
            "None\n"
          ],
          "name": "stdout"
        }
      ]
    },
    {
      "metadata": {
        "id": "iZ8E1aF0FS1s",
        "colab_type": "text"
      },
      "cell_type": "markdown",
      "source": [
        "**The model compilation**"
      ]
    },
    {
      "metadata": {
        "id": "VyVlJMdGkrv-",
        "colab_type": "code",
        "colab": {}
      },
      "cell_type": "code",
      "source": [
        "model.compile(loss='categorical_crossentropy',\n",
        "              optimizer='adam',\n",
        "              metrics=['accuracy'])"
      ],
      "execution_count": 0,
      "outputs": []
    },
    {
      "metadata": {
        "id": "Aq23si1YFYhF",
        "colab_type": "text"
      },
      "cell_type": "markdown",
      "source": [
        "## Training the neural net"
      ]
    },
    {
      "metadata": {
        "id": "kyH5Ec9RkznF",
        "colab_type": "code",
        "outputId": "e3ee82a3-547d-463d-bbd2-584bf7f63803",
        "colab": {
          "base_uri": "https://localhost:8080/",
          "height": 755
        }
      },
      "cell_type": "code",
      "source": [
        "history = model.fit(X_train, Y_train,\n",
        "              batch_size=batch_size,\n",
        "              epochs=nb_epoch,\n",
        "              validation_split=0.1,\n",
        "              shuffle=True,\n",
        "              verbose=2)"
      ],
      "execution_count": 10,
      "outputs": [
        {
          "output_type": "stream",
          "text": [
            "Train on 45000 samples, validate on 5000 samples\n",
            "Epoch 1/20\n",
            " - 35s - loss: 1.5765 - acc: 0.4253 - val_loss: 1.1573 - val_acc: 0.5880\n",
            "Epoch 2/20\n",
            " - 31s - loss: 1.0904 - acc: 0.6118 - val_loss: 0.8764 - val_acc: 0.7008\n",
            "Epoch 3/20\n",
            " - 31s - loss: 0.8905 - acc: 0.6855 - val_loss: 0.7790 - val_acc: 0.7320\n",
            "Epoch 4/20\n",
            " - 31s - loss: 0.7566 - acc: 0.7322 - val_loss: 0.6935 - val_acc: 0.7636\n",
            "Epoch 5/20\n",
            " - 31s - loss: 0.6623 - acc: 0.7674 - val_loss: 0.6588 - val_acc: 0.7768\n",
            "Epoch 6/20\n",
            " - 31s - loss: 0.5891 - acc: 0.7922 - val_loss: 0.6537 - val_acc: 0.7830\n",
            "Epoch 7/20\n",
            " - 31s - loss: 0.5170 - acc: 0.8177 - val_loss: 0.6058 - val_acc: 0.7994\n",
            "Epoch 8/20\n",
            " - 31s - loss: 0.4636 - acc: 0.8356 - val_loss: 0.6377 - val_acc: 0.7856\n",
            "Epoch 9/20\n",
            " - 31s - loss: 0.4125 - acc: 0.8537 - val_loss: 0.6006 - val_acc: 0.8012\n",
            "Epoch 10/20\n",
            " - 31s - loss: 0.3771 - acc: 0.8661 - val_loss: 0.6642 - val_acc: 0.7936\n",
            "Epoch 11/20\n",
            " - 31s - loss: 0.3342 - acc: 0.8814 - val_loss: 0.6517 - val_acc: 0.7960\n",
            "Epoch 12/20\n",
            " - 31s - loss: 0.3018 - acc: 0.8951 - val_loss: 0.6211 - val_acc: 0.8126\n",
            "Epoch 13/20\n",
            " - 31s - loss: 0.2790 - acc: 0.9021 - val_loss: 0.6525 - val_acc: 0.8066\n",
            "Epoch 14/20\n",
            " - 31s - loss: 0.2660 - acc: 0.9057 - val_loss: 0.6380 - val_acc: 0.8154\n",
            "Epoch 15/20\n",
            " - 31s - loss: 0.2383 - acc: 0.9163 - val_loss: 0.6468 - val_acc: 0.8150\n",
            "Epoch 16/20\n",
            " - 31s - loss: 0.2318 - acc: 0.9183 - val_loss: 0.6893 - val_acc: 0.8096\n",
            "Epoch 17/20\n",
            " - 31s - loss: 0.2128 - acc: 0.9257 - val_loss: 0.6647 - val_acc: 0.8142\n",
            "Epoch 18/20\n",
            " - 31s - loss: 0.2027 - acc: 0.9276 - val_loss: 0.6975 - val_acc: 0.8062\n",
            "Epoch 19/20\n",
            " - 31s - loss: 0.1915 - acc: 0.9329 - val_loss: 0.7063 - val_acc: 0.8114\n",
            "Epoch 20/20\n",
            " - 31s - loss: 0.1811 - acc: 0.9367 - val_loss: 0.7227 - val_acc: 0.8178\n"
          ],
          "name": "stdout"
        }
      ]
    },
    {
      "metadata": {
        "id": "bHssPqMqF9sv",
        "colab_type": "text"
      },
      "cell_type": "markdown",
      "source": [
        "## Valuetion of quality model on test data"
      ]
    },
    {
      "metadata": {
        "id": "5y4AHwlNou5y",
        "colab_type": "code",
        "outputId": "6934caa2-29cd-4437-db12-c74c43d4fd15",
        "colab": {
          "base_uri": "https://localhost:8080/",
          "height": 35
        }
      },
      "cell_type": "code",
      "source": [
        "#judging quality of training model on test data\n",
        "scores = model.evaluate(X_test, Y_test, verbose=0)\n",
        "print(\"Accuracy on test data: %.2f%%\" % (scores[1]*100))"
      ],
      "execution_count": 11,
      "outputs": [
        {
          "output_type": "stream",
          "text": [
            "Accuracy on test data: 80.41%\n"
          ],
          "name": "stdout"
        }
      ]
    },
    {
      "metadata": {
        "id": "Z_xxp2UrNJvz",
        "colab_type": "code",
        "outputId": "0249077b-a6ae-42f6-be50-da5a3ec41d46",
        "colab": {
          "base_uri": "https://localhost:8080/",
          "height": 279
        }
      },
      "cell_type": "code",
      "source": [
        "history_dict = history.history\n",
        "acc_values = history_dict['acc']\n",
        "val_acc_values = history_dict['val_acc']\n",
        "epochs = range(1, len(acc_values) + 1)\n",
        "plt.plot(epochs, acc_values, 'bo', label='Training acc')\n",
        "plt.plot(epochs, val_acc_values, 'b', label='Validation acc')\n",
        "plt.xlabel('Epochs')\n",
        "plt.ylabel('Accuracy')\n",
        "plt.legend()\n",
        "plt.show()"
      ],
      "execution_count": 12,
      "outputs": [
        {
          "output_type": "display_data",
          "data": {
            "image/png": "[encoded data removed]",
            "text/plain": [
              "<matplotlib.figure.Figure at 0x7f5d87e1dba8>"
            ]
          },
          "metadata": {
            "tags": []
          }
        }
      ]
    },
    {
      "metadata": {
        "id": "9Ax2lw6hRDlm",
        "colab_type": "text"
      },
      "cell_type": "markdown",
      "source": [
        "## Saving the trained neural net"
      ]
    },
    {
      "metadata": {
        "id": "uQhkelwPQ_PE",
        "colab_type": "code",
        "colab": {}
      },
      "cell_type": "code",
      "source": [
        "model_json = model.to_json()\n",
        "json_file = open(\"cifar10_model.json\", \"w\")\n",
        "json_file.write(model_json)\n",
        "json_file.close()\n",
        "model.save_weights(\"cifar10_model.h5\")"
      ],
      "execution_count": 0,
      "outputs": []
    },
    {
      "metadata": {
        "id": "bn4CEGiURBz7",
        "colab_type": "code",
        "outputId": "2dd8f1ce-a735-438d-91c6-f1abcb995888",
        "colab": {
          "base_uri": "https://localhost:8080/",
          "height": 66
        }
      },
      "cell_type": "code",
      "source": [
        "!ls"
      ],
      "execution_count": 14,
      "outputs": [
        {
          "output_type": "stream",
          "text": [
            "cifar10_model.h5  cifar10_model.json  sample_data\n"
          ],
          "name": "stdout"
        }
      ]
    },
    {
      "metadata": {
        "id": "rV8R1WhKVpZK",
        "colab_type": "code",
        "colab": {}
      },
      "cell_type": "code",
      "source": [
        "from google.colab import files"
      ],
      "execution_count": 0,
      "outputs": []
    },
    {
      "metadata": {
        "id": "udkAZlWbVi7C",
        "colab_type": "code",
        "colab": {}
      },
      "cell_type": "code",
      "source": [
        "files.download(\"cifar10_model.json\")"
      ],
      "execution_count": 0,
      "outputs": []
    },
    {
      "metadata": {
        "id": "Q1oY_XT2VvKp",
        "colab_type": "code",
        "colab": {}
      },
      "cell_type": "code",
      "source": [
        "files.download(\"cifar10_model.h5\")"
      ],
      "execution_count": 0,
      "outputs": []
    },
    {
      "metadata": {
        "id": "CDf9Gw19GIGO",
        "colab_type": "text"
      },
      "cell_type": "markdown",
      "source": [
        "## Using net for recognition of objects"
      ]
    },
    {
      "metadata": {
        "id": "wFujwhUEGWOG",
        "colab_type": "text"
      },
      "cell_type": "markdown",
      "source": [
        "**Reviewing data from test dataset**"
      ]
    },
    {
      "metadata": {
        "id": "bxaxjSOAGOPX",
        "colab_type": "code",
        "outputId": "ddaf91cc-b9ab-4ef2-c871-293ed7a4a08a",
        "colab": {
          "base_uri": "https://localhost:8080/",
          "height": 266
        }
      },
      "cell_type": "code",
      "source": [
        "index=95\n",
        "plt.imshow(toimage(X_test[index]))\n",
        "plt.show()"
      ],
      "execution_count": 18,
      "outputs": [
        {
          "output_type": "display_data",
          "data": {
            "image/png": "[encoded data removed]",
            "text/plain": [
              "<matplotlib.figure.Figure at 0x7f5d8ff78128>"
            ]
          },
          "metadata": {
            "tags": []
          }
        }
      ]
    },
    {
      "metadata": {
        "id": "ByO-DUMJGc32",
        "colab_type": "text"
      },
      "cell_type": "markdown",
      "source": [
        "**Reshape test image**"
      ]
    },
    {
      "metadata": {
        "id": "kvZbyn6xGhUe",
        "colab_type": "code",
        "colab": {}
      },
      "cell_type": "code",
      "source": [
        "x = X_test[index]\n",
        "x = np.expand_dims(x, axis=0)"
      ],
      "execution_count": 0,
      "outputs": []
    },
    {
      "metadata": {
        "id": "hxcp2FfPGog1",
        "colab_type": "text"
      },
      "cell_type": "markdown",
      "source": [
        "**The start of recognition**"
      ]
    },
    {
      "metadata": {
        "id": "Ap72-9_kNKU2",
        "colab_type": "code",
        "colab": {}
      },
      "cell_type": "code",
      "source": [
        "prediction = model.predict(x)"
      ],
      "execution_count": 0,
      "outputs": []
    },
    {
      "metadata": {
        "id": "2Gldpmn2NQ6-",
        "colab_type": "text"
      },
      "cell_type": "markdown",
      "source": [
        "**Printing result of recognition**"
      ]
    },
    {
      "metadata": {
        "id": "P7opRiSZNUku",
        "colab_type": "code",
        "outputId": "b74dbe1b-53b1-4f75-eb12-e69df7e19ae9",
        "colab": {
          "base_uri": "https://localhost:8080/",
          "height": 53
        }
      },
      "cell_type": "code",
      "source": [
        "print(prediction)"
      ],
      "execution_count": 21,
      "outputs": [
        {
          "output_type": "stream",
          "text": [
            "[[6.6312986e-21 1.5871395e-22 3.3765183e-14 6.2473200e-09 1.0572663e-12\n",
            "  6.6709442e-13 1.0000000e+00 1.3395680e-22 2.9297814e-16 1.9132229e-21]]\n"
          ],
          "name": "stdout"
        }
      ]
    },
    {
      "metadata": {
        "id": "LQTiyEM3NfRG",
        "colab_type": "text"
      },
      "cell_type": "markdown",
      "source": [
        "**Change from format one hot encoding**"
      ]
    },
    {
      "metadata": {
        "id": "XVC_dTGqNohG",
        "colab_type": "code",
        "outputId": "c8cb190e-82fb-4a9b-f3c7-cc1d8a5e2104",
        "colab": {
          "base_uri": "https://localhost:8080/",
          "height": 35
        }
      },
      "cell_type": "code",
      "source": [
        "prediction = np.argmax(prediction)\n",
        "print(classes[prediction])"
      ],
      "execution_count": 22,
      "outputs": [
        {
          "output_type": "stream",
          "text": [
            "frog\n"
          ],
          "name": "stdout"
        }
      ]
    },
    {
      "metadata": {
        "id": "zJy8tKjuNyD2",
        "colab_type": "text"
      },
      "cell_type": "markdown",
      "source": [
        "![alt text](https://)**Print correct answer**"
      ]
    },
    {
      "metadata": {
        "id": "0zoGlCZWN2Id",
        "colab_type": "code",
        "outputId": "2b664fff-501b-4d64-aeeb-9e65724833f7",
        "colab": {
          "base_uri": "https://localhost:8080/",
          "height": 35
        }
      },
      "cell_type": "code",
      "source": [
        "print(classes[y_test[index][0]])"
      ],
      "execution_count": 23,
      "outputs": [
        {
          "output_type": "stream",
          "text": [
            "frog\n"
          ],
          "name": "stdout"
        }
      ]
    },
    {
      "metadata": {
        "id": "1QnZ1pfIA_jo",
        "colab_type": "text"
      },
      "cell_type": "markdown",
      "source": [
        "## Recogniton yours images"
      ]
    },
    {
      "metadata": {
        "id": "UjfiJbX7BEtA",
        "colab_type": "code",
        "outputId": "cbad956d-2b2d-45af-b7dc-b35c5cdf7322",
        "colab": {
          "resources": {
            "http://localhost:8080/nbextensions/google.colab/files.js": {
              "data": "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",
              "ok": true,
              "headers": [
                [
                  "content-type",
                  "application/javascript"
                ]
              ],
              "status": 200,
              "status_text": ""
            }
          },
          "base_uri": "https://localhost:8080/",
          "height": 111
        }
      },
      "cell_type": "code",
      "source": [
        "from google.colab import files\n",
        "\n",
        "files.upload()"
      ],
      "execution_count": 30,
      "outputs": [
        {
          "output_type": "display_data",
          "data": {
            "text/html": [
              "\n",
              "     <input type=\"file\" id=\"files-3a471aa4-67ec-4956-8230-47eb7d7a7055\" name=\"files[]\" multiple disabled />\n",
              "     <output id=\"result-3a471aa4-67ec-4956-8230-47eb7d7a7055\">\n",
              "      Upload widget is only available when the cell has been executed in the\n",
              "      current browser session. Please rerun this cell to enable.\n",
              "      </output>\n",
              "      <script src=\"/nbextensions/google.colab/files.js\"></script> "
            ],
            "text/plain": [
              "<IPython.core.display.HTML object>"
            ]
          },
          "metadata": {
            "tags": []
          }
        },
        {
          "output_type": "stream",
          "text": [
            "Saving frog1.jpg to frog1.jpg\n"
          ],
          "name": "stdout"
        },
        {
          "output_type": "execute_result",
          "data": {
            "text/plain": [
              "{'frog1.jpg': b'\\xff\\xd8\\xff\\xe0\\x00\\x10JFIF\\x00\\x01\\x01\\x00\\x00\\x01\\x00\\x01\\x00\\x00\\xff\\xdb\\x00\\x84\\x00\\t\\x06\\x07\\x13\\x12\\x12\\x15\\x12\\x13\\x13\\x15\\x16\\x15\\x17\\x15\\x15\\x18\\x16\\x18\\x18\\x17\\x18\\x17\\x15\\x18\\x18\\x16\\x15\\x17\\x17\\x17\\x15\\x17\\x15\\x18\\x1f( \\x18\\x1a%\\x1b\\x15\\x16\"1!%)+...\\x17\\x1f383-7*-.+\\x01\\n\\n\\n\\x0e\\r\\x0e\\x1a\\x10\\x10\\x1b-%\\x1f%--------------------------------------------------\\xff\\xc0\\x00\\x11\\x08\\x00\\xa8\\x01,\\x03\\x01\"\\x00\\x02\\x11\\x01\\x03\\x11\\x01\\xff\\xc4\\x00\\x1b\\x00\\x00\\x01\\x05\\x01\\x01\\x00\\x00\\x00\\x00\\x00\\x00\\x00\\x00\\x00\\x00\\x00\\x00\\x01\\x02\\x03\\x04\\x05\\x06\\x07\\xff\\xc4\\x00;\\x10\\x00\\x01\\x03\\x02\\x04\\x03\\x06\\x04\\x05\\x04\\x02\\x01\\x05\\x00\\x00\\x00\\x01\\x00\\x02\\x11\\x03!\\x04\\x121A\\x05Qa\\x13\"q\\x81\\x91\\xf0\\x06\\xa1\\xb1\\xd12B\\xc1\\xe1\\xf1\\x07\\x14Rb#r\\x16\\x153C\\x82\\xa2\\xff\\xc4\\x00\\x19\\x01\\x00\\x03\\x01\\x01\\x01\\x00\\x00\\x00\\x00\\x00\\x00\\x00\\x00\\x00\\x00\\x00\\x00\\x01\\x02\\x03\\x04\\x05\\xff\\xc4\\x00)\\x11\\x00\\x02\\x02\\x02\\x02\\x02\\x02\\x00\\x05\\x05\\x00\\x00\\x00\\x00\\x00\\x00\\x00\\x01\\x02\\x11\\x03\\x12!1AQ\\x04\\x13\\x14\"2B\\xd13aq\\xb1\\xc1\\xff\\xda\\x00\\x0c\\x03\\x01\\x00\\x02\\x11\\x03\\x11\\x00?\\x00\\xf2\\xc4\\xa9\\x12\\xa0\\x04*\\')J\\x89\\xe8\\x02\\x17\\xa8\\\\\\xa6z\\x85\\xc8\\x18\\xc2\\x84\\x14$0B\\x10\\x81\\x82\\x10\\x84\\x00!\\x08@\\x81\\x08J\\x81\\x88\\x95\"T\\x08P\\x94$\\n\\xce\\x06\\x8ew\\x80t\\xdf\\xec\\x86\\xe9[\\x13%\\xc2`*T\\xfc-\\xb73\\xa2~#\\x87Uf\\xacq\\xff\\x00\\xa8.\\xdav\\xe8\\xba\\x8c \\x81\\xc8{\\xb2\\xbc\\xc3\\x02f7\\x1a\\xfa\\xfc\\xb5\\x0b\\x81\\xfc\\xb9_\\x08\\xc1\\xe4i\\x9c\\x03]:%*\\xe7\\x17\\xe1\\xee\\xa5P\\xbbV\\xb8\\x9d6&\\xfa*k\\xba2RV\\x8dS\\xbeF\\x94\\xd2\\x9cS\\n\\xa1\\x8d)\\x12\\x94\\xd2\\x91A)R\"P1e*j\\x10!\\xc9\\x12!\\x00*D$@\\x80\\xa1\\t\\x103Q*D&H\\x15\\x13\\x94\\x85F\\xe4\\x01\\x0b\\x94.S=B\\xe4\\x0caB\\n\\x12\\x18!\\x08@\\x02\\x10\\x84\\x00!\\x08@\\x02T\\x89@\\'D\\x00\\'R\\xa6\\\\`\\x05k\\r\\xc3^\\xedmi\\xf6\\x16\\xce\\x1f\\x0c)\\x88m\\xec/`|\\xd693(\\xf5\\xd9.I\\x14\\xa8\\xf0\\xa0 \\xba\\xff\\x00O\\x96\\xca\\xf5:Mg\\xe1\\x01H\\xe7\\x8d\\xa3\\xc1 \\xbd\\xd7,\\xa7)vGd\\xe2\\xb1R\\xb7\\x12d\\xc4\\x05^\\x8d\\x07;K\\x0ef}\\x13\\x1e\\xe0\\xd0H2\\x1aFc\\x06\\x07B\\xed\\x07\\x81Y\\xe9d\\xf0\\xf8&\\xae3\\x08\"g\\xdf%\\x97\\x8a\\xe1d]\\xb1\\x1c\\x96\\xad\\x06\\x97\\t\\x05I]\\xb2>\\x8a\\xe19A\\xd2\\x04\\xe8\\xe4\\xea4\\x83\\x05FU\\xee!\\x12z}\\xfe\\xea\\x89^\\x8c]\\xa3a\\x85!JSJ\\x06\\tR!\\x03\\x15\\t\\x10\\x80\\x15\"\\x10\\x81\\x02\\x10\\x84\\x0cD%H\\x80\\xa3Q\\t\\x12\\xa6@\\x85F\\xe5!Q9\\x00D\\xe5\\x13\\x94\\xafQ9\\x001\\x08BC\\x04%\\x01np\\xee\\x06\\x08\\x9a\\x87X\\xb0:x\\x95\\x13\\xc9\\x18+brK\\xb3\\r\\xa2l.U\\xca<&\\xab\\xa3\\xbb\\x13\\x1a\\xf5\\xd2\\xda\\xae\\x9a\\x9e\\t\\xac\\x16\\r\\xb7-\\xc7E)0$\\x9b\\xf8\\xfd\\xb4\\xf9\\xaeI\\xfc\\xb7\\xfbQ\\x9b\\xcb\\xe8\\xe7\\xd9\\xf0\\xf3\\xc9\\x033z\\xebo\\x157\\xfe9\\r$\\xd4\\x160!\\xa6\\n\\xdc{\\xc96\\x8d4\\x1a\\x03\\xd7\\x9a\\x82\\xa5>d\\x8es\\x1b\\xeb\\x0b/\\xc4d~I\\xfb$\\xcco\\xfd\\x08D\\xf6\\x9c\\xbf,t1%Y\\xc3\\xe0[NH\\x1c\\xeeO\\xcb\\xaa\\xbc\\xe7\\xcf\\xd2v\\xb5\\xf4\\x1a\\xa48b\\xe3$\\xdbMl\\x9b\\xcb\\'\\xfa\\x98\\xf6~H)\\xb0\\x9fS\\xe0:\\xa9{#\\x13\\xcf\\xc8{\\xd5L\\xe1\\x00\\x91\\xe1\\xd3\\x94}\\x12\\xd2a\\xca${\\xde\\xcb7\"l\\x81\\x947>\\x1d=\\xe8\\xa5\\xc3P\\xed*e\\xb47\\xeb\\xfb+\\xae\\xa0D\\x1bt\\xf3\\xde\\xc9\\xf8*=\\x91.6\\xd7\\xdfM\\x14\\xb9\\xb7\\xd7b\\x9c\\xa9Y\\x7f\\x11\\xc3i9\\x8f\\xa4\\xfc@\\xc3\\x86R\\x15\\x1fP\\x89\\xcb\\x9c\\xe5\\xa4\\'\\xfd\\xa5\\xc4\\xc1\\x9b\\x01\\xbc\\xae\\x19\\xdcs\\x13\\x87\\xa1S\\x04\\xd7\\xcd\\x17\\xfe\\x12Z\\xe6\\x92\\xc2\\xe2s\\xd3\\x989\\x1e9\\xcd\\x8e\\xc98\\xf68\\xbe\\xb5P*\\x16\\xb1\\xfd\\x98 \\x03\\x94\\x86\\x0bH\\xde\\x1duU\\xfc\\x13\\x15\\xd9>\\xab\\xa8\\xd4k)\\xb5\\xa5\\xc5\\xedsl\\xe3\\r\\x8c\\xc2\\xe3\\xc3@\\xbb!\\x861\\xfe\\xabUj\\x93\\xae\\x1f\\xfb\\xbb7\\xc4\\xaa\\n\\xbb\\xf2i\\xfc3\\x8a\\xcd\\xff\\x00\\x1e\\x86-\\x13\\xae\\xe7]J\\xdae)0g\\xf4\\xf2N\\xe0X\\x1a3LP\\x13\\x92\\x96g\\xbc\\xcc\\x9a\\xb5C!\\xb2\"!\\xad6\\xd0f\\x1c\\xd6\\xfd<\\x1fgr\\x04\\x01\\xbe\\xbd|\\xb4Xg\\xc8\\x9b\\xb5\\xe7\\xf9\\xff\\x00\\xa6Y8\\x95#\\x88\\xe3\\x98\\x02\\xc0^D\\x13\\x1bD\\xdds\\xe5n\\xfcU\\xc5\\x05j\\xb0\\xdf\\xc0\\xdb\\x0e\\xa7\\x9a\\xc2+\\xbf\\x0e\\xda-\\x8d\\x97\\\\\\x8d)\\x85<\\xa6\\x15\\xa1@\\x84!\\x03\\x04!\\x08\\x00B\\x10\\x80\\x04!\\x08\\x18!\\x08@\\x1aIR%L\\xcciQ\\xb9HTN(\\x027\\xa8\\x9c\\x9e\\xe5\\x11@\\x08\\x95\\x8d$\\xc0\\x12S\\xa9\\xd1s\\xbf\\x0bI\\xf0\\x1f\\xaa\\xe88g\\r\\x0c\\xb9\\xfcz\\xdfA\\xd3\\xe7\\xf4Yd\\xca\\xa0\\x85)$E\\xc3xh\\x031\\xd6\\'\\xc2\\xebn\\x9b\\xa3qh\\x1bo\\xb8\\x9d\\xfa\\xa8\\xe93Km\\xcaM\\xce\\xfc\\x8f\\xdd.\\x1d\\xb7\\xbc\\x11\\xa8\\x1f\\xecm\\xa2\\xf3rI\\xcd\\xdb9\\xe4\\xef\\xb2G\\x1b\\x99\"|\\xbe\\xb0\\x82\\x08\\x03\\xe5pg\\x99\\x1c\\x95\\x83D\\x06\\xda\\x0c\\xea\\x06\\xde<\\xb5L}\\x1f\\x98\\x1a\\t\\xfa\\xfe\\x8b\"J\\xaey\\xeb\\xa7\\xb2S\\x98\\xc3s\\x1d\\xe8\\xe64\\xb0\\x05HXt#A\\xb9\\xdf\\xd2\\xe9\\xfd\\x99\\xb0\\x82ma\\x94\\x89\\xe7\\xd4\\xa1\\xb2\\xac)\\xe1Ii-\\x04\\xe5\\x171o\\xe3\\xee\\x8a\\xb8l\\xa1\\xa7ghv\\xb6\\xb1\\xcdK\\x87\\xcc\\'\\xbc@\\x91;\\x98\\x99\\x98\"\\xf1\\xd5L\\xec\\x80\\x86\\xb4<\\x88\\xbc\\xf3\\xe6\\x06\\xd3\\xe3\\xcb\\x92\\x97 (W`\\'\\xbb\\xb4\\x13\\xe5\\xfa)\\xf0\\x94\\x84\\t\\x9b\\xeb\\xe9\\'\\xe6\\x9dZ\\x9c8\\x96\\xfe\\x13\\x127\\x03`H\\xf7u`\\x91{_\\xe9\\xa2N\\\\\\t\\xb1\\xb8\\xd0\\xec\\x8di\\xe4r\\x18\\xbcI\\x11\\xe7u^\\xa3\\x0eI\\x04\\xcc\\xc1i\\x8c\\xbe\\xa7[\\xce\\xd6\\x85-lk\\xcf\\xfc`\\xf7\\x01\\xcd\\x16\\xfcQ\\x13>\\x10\\x9fF\\xab\\xdb$\\x18\\x96\\x96\\xda\\xf2\\x1c\\x08p<\\xe4\\x12\\xb6\\x8dEr\\x17\\xc9\\x8d\\x89\\xe1Tk~\\'vN\\x8d\\x0bIl\\xff\\x00\\x90\"=\\x14\\xf8~\\x0fZ\\xa0\\xec\\x9d\\x8c\\xabV\\x99\\xfc\\x8d\\xccA\\xb8\\x80\\\\\\xe3\\x00XYo2\\xa1s\\xf3\\x90\\x017.p\\x00LE\\x87\\x96\\xca\\xc6\\'\\x88\\xb2\\x83\\x0b\\xcb\\x85\\x87P/\\xa4N\\xbeJ\\xe5\\x9f$\\xb8J\\xff\\x00\\xc9\\xa4w\\xfd\\xad\\xd1c\\x85\\xf0\\xd6a\\xe9\\xe5\\xb0\\x8d\\x06\\xb0w%\\xdf\\x99\\xdfu\\xc9\\xfc]\\xf1&y\\xa5H\\xff\\x00\\xd8\\xfe\\x81fq\\xcf\\x89__\\xba\\t\\r\\xf7\\xa0\\xd9a.\\x8c\\x1f\\x15\\xde\\xf99e\\xc7\\x1a\\x8f>D)\\x858\\xa6\\x95\\xdcX\\xc2\\x9aS\\xcaiHb!\\x08@\\xc1\\x08B\\x06\\x08B\\x10\\x00\\x84!\\x01`\\x84!\\x034\\x90\\x96\\x12&f#\\x94/Vh\\xd1/pku&\\x02\\xeb\\xf8w\\xf4\\xfa\\xa3\\xc0.\\xccf\\xf6\\x16\\x81\\x13\\xf5\\x0b\\x1c\\xb9\\xe1\\x8f\\xf5\\t\\xb4\\xbb8F\\xd3.0\\x01%t\\x9c\\'\\xe1\\x07;\\xbdV\\xc2&\\x07\\xeaWu\\xc3\\xfe\\x1e\\xa3E\\xa2\\x1a$s\\xb9\\xf1\\x9d\\x967\\x1a\\xe2\\xa2\\xa7\\xfcT\\xe43\\xf3;wt\\x03\\x97\\xd7\\xeb\\xc5?\\x95<\\x8b\\xf2p\\xbd\\xf99\\xe7\\x95\\xb7Q2q-h\\x01\\x94\\xda\\x03\\x01 \\x1e}|\\x11M\\x83\\xc3\\x97\\x90\\xb9\\xea\\xa5\\xa7H\\x83\\xcc\\x81=\\x06\\xc3\\xe4\\xa4nS\\xdd\\x83q\\x17\\xf7\\xd4\\xae{ \\x8a\\x980@\\xe7&LX\\xff\\x00\\nv\\xd2\\x832,E\\x86\\xf6\\xb9\\x9fz\\'2\\x9c\\xc8\\xb5\\xaeN\\xe6\\xda)\\x18DX\\x08\\xe4N\\xea\\x1c\\xbd\\x01+\\xa8:\\x99l\\x88\\xce\\xdc\\xd6 \\x8c\\xa6@\\xd3M\\nN\\xceNRy\\xe53\\r\\xf1\\x93\\x1c\\xb7\\xe8\\x95\\xae\\xef\\x17\\x02\\xd9&4\\x80DF\\x9e\\xaa\\xd3\\x98\\x7f\\x0b\\x9b-\\xa4\\xe2\\xc8inF\\x878\\xd8T3763\\xcc\\xa5V2\\x98m\\x81\\xdd\\xce\\x82#H\\x8b\\xcf[\\xe8\\xa5v\\x1c\\x03`\\xf0\\x1b\\x00\\xe8L\\x9e\\xba\\x19\"\\xc5IN\\x93\\xaa\\x16\\x86\\xdc\\x83aq\\xa0\\x9b\\x91\\xff\\x00\\xda\\xfd\\x14\\xcc\\xc6<63\\x9abm\\x07\\x9ft\\x03\\x06\\\\\\xd0\\x01\\xe7\\x1aE\\xec\\xf5\\x19I\\xd8p]\\x95\\xac\\xceH\\xb4\\x19\\x87\\x1b\\xdc\\xec@\\x99\\x1a\\x84\\xb9\\x0bC\\\\\\xe9%\\xc0\\xc6\\x90`\\xc5\\xb4\\xb4\\x83\\x7f\\x15+\\xf1mk\\r7\\xb4:\\xc3!\\x00\\xb4\\x02n_{\\x99\\x1e\\xb6\\xd9P\\xc4\\x88\\xcb\\x0e\\x06\\x00\\xd0\\x93\\x00\\x89\\xca$j&\\xfde7\\x01\\x93\\xe3*0\\xc9 \\xc9vg\\x11ay&\\xdd\\t\\xf9(\\x19\\x89\\xd73\\xae9\\xc01\\xce|\\x145^\\xe7\\x0c\\xa6#\\x9f\\xdc\\xf8,\\xfa\\xee2b\\x1d\\xe2UG\\x15\\xf6\\x1a\\xd96\\x1f\\x887\\xbeI\\r\\x1a\\x8bj\\'P\\x98~$\\xcal\\x01\\x1c\\x84\\xdf\\xac\\xad~\\x01\\xf0\\xf5\\n\\xcdp\\xae\\x01\\xa8o\\x96H\\xca6\\x90\\r\\xa7\\xaf%6;\\x84\\xd1\\xc2R.\\x80 D\\x91y\\x1d|\\x82\\xee\\xfc<R\\xb6k\\x1cq\\xf2r\\xd8\\xcf\\x8b+\\x91\\x95\\x840z\\x92\\xb1\\xf1X\\xc7\\xd5 \\xbd\\xc5\\xd1\\xa7E\\x05G\\xe6$\\xf3)\\x02\\xea\\x8e8\\xc7\\xa4iIp\\x87\\x84\\xa9\\x02U`4\\xa6\\x94\\xe2\\x9aP\\x03JjzjC\\x1a\\x84\\xa8@\\xc4BT\\x88\\x00B\\x10\\x80\\x04!\\x08\\x00BD \\r\\xcaX\\x07;J\\x80\\x15[\\x17\\x87{53\\xd4-7\\xe1\\xcf?MS*\\xd2q\\x16q {\\xd5c\\xb9\\x95\\x94\\xf8F3\\xb3\\xaa\\xd7;\\xc3\\xcdz\\xc6\\x0b\\xe3\\x16\\x8c?fKO\\xf8\\xc9\\x1d\\xde\\x8b\\xc6\\xeb2T\\xb8<c\\xe9l\\x1e9\\x13\\x04,\\xf2bS{y\\x06\\x94\\xbb;\\x8co\\x15\\xabU\\xce\\x19\\xa1\\xa0\\\\\\x08\\x82\\x0e\\xc0\\xf8J\\xa9M\\xed\\x1f\\xf6:o\\xec\\xac\\xee\\x17\\x8cuR\\xe7e\\r\\x16\\x113q\\xba\\xd2\\xa9O\\xbba;\\xf5\\xb2\\xe3\\xca\\x94e\\xa9\\x94\\xd7#\\xc9\\x06\\x00v\\xa3}\\xad\\xa2J\\xae\\x8e\\xb0t\\x1a\\x1b]Tk\\rC\\xdc\\x11\\x04I:zsVN\\x05\\xec\\xeb\\xd7\\x97\\x8a>\\xa7VO\\x0b\\xb2Jf\\xc6<g\\xa78\\xf9+\\x0f\\x16\\xb5\\xc4\\xed\\xf5Y\\xae\\xce\\xd9{A \\x08p\\x8b\\x8f\\xd9X\\xc1\\xd6\\xdcn4;\\xf8}\\x94<o\\xb2e\\xec\\xb1\\x9c\\x18 \\xc1\\x07\\x96\\x8a\\xcd|Qs\\x8c\\x13p3\\x1c\\xc7\\xbe@\\xd5\\xd2n~VQ\\x86\\x11\\xb8\\x1a\\x98=T\\x81\\x9d\\xd8:s\\x1f\\xaa\\x92v\\x1fR\\xa1vBKX!\\xd1\\xd9\\xb4\\x03 D:#[_\\x97=\\x15Z\\xcei;\\xe9\\x06y\\xc6\\xbbo*bH\\xb6[m\\xfb\\xa0\\xb2u\\xfaY&\\xfd\\x8dJ\\xc8+g\\xa8s8\\x92m\\xae\\xb6\\x11\\xaf\\x84&\\xbe\\x893:\\x85g\\xb3\\x9e}!N(\\x8bn\\x05\\xcf\\xf0\\x9a\\x9d\\x96f\\xe1\\xb0\\xa5\\xef\\x00\\x0b~c\\xfa.\\x8c\\xe0\\xa96?\\xe3l\\x8f\\xccu&dO\\x82\\x8f\\x87\\xd4\\r\\x0e\\x0ch\\xcc{\\xb3\\x10mr\\x01:\\x01\\n\\x86/\\x1dc\\xa9\\xe8M\\xe7\\xa0]K*\\xc4\\xb8\\xed\\x9a\\xc5\\x0b\\xc2\\x9cF.\\xab\\x18\\xd8\\x10\\xc7\\x17\\x0b\\x02yzB\\xe6\\xbf\\xa8<o\\xb4\\xa9\\xd81\\xd2\\xd6\\xdd\\xe7\\xfd\\xb6o\\x92\\xd6\\xe3\\xbcg\\xfbZ\\x19\\x7f\\xf9j\\x03\\x00ly\\x9e\\x83\\xf4\\\\\\x06\\x17\\x0e\\xea\\xae;\\x92d\\xce\\xe4\\xae\\xbcv\\xd5\\xc8\\xd9\\x11\\x84\\xe0\\xba\\\\\\'\\x03mQ\\x96!\\xf1\\xb6\\xbe\\x9b\\xa8\\xaa|-W4\\r&$\\x82\\xb4\\xfb\\x17\\x91\\xe8\\xcc \\x95l\\x7f\\xe3u\\xb3\\x16\\x880$\\x99\\xb5\\x96^*\\x81c\\xb2\\x9dSRO\\xa0qk\\xb2\\x14\\x85*B\\xa8\\x91\\xa5\"rjC\\x11\\tP\\x90\\xc4H\\x95\"`\"\\x12\\xa4@\\x81\\x08B\\x00B\\x84\\x14 \\r\\xc1\\x8b#A\\xf3L8\\xa3\\xaf\\xea\\xa2\\x92\\x94.S\\x02\\'\\xae\\x97\\xe0\\xfe\\x1fM\\xf3R\\xa0\\x0e\\x83\\r\\x07O\\x18\\xdc\\xfd\\x97;\\x0bW\\x82q@\\xd9\\xa50fD\\x98\\x07\\xf7Y\\xe6R\\x94\\x1a\\x88vw\\xf4\\xb0\\xb4@1\\x91\\x90&@\\x0e\\x1b\\xd8\\xc6\\x97\\x81{\\xdf{\\xaa#\\x13H\\x82\\x08\\x00\\xc6\\xe3\\xf5T)V\"\\t\\x00\\x02\\r\\xf3\\x1bf\\x96\\xc9\\x83x\\xbd\\xb4;\\xca\\x89\\xf5\\x9a]$\\x17\\x19\\xbd\\xf2\\xb4\\x88\\x00\\x01\\x02\\xc7\\xa8\\xd5y\\xff\\x00Z%\\xa2\\xf3)\\xd3\\x17\\x00\\x0eP\\x9a\\xe9\\x9b;\\xd6\\x16ol\\xfd\\x08\\x9d\\xad\\xaa\\x95\\xb8\\xfc\\xa49\\xa2\\xc2#0\\x0e\\x13\\x17\\x9d\\xb5\\xd3\\xc5R\\x8b3q,\\xc9h6\\x1dL\\xdf\\xe7\\xb2\\x81\\xa1\\xb7\\xee\\xc4\\xc2\\xb4\\xc7g\\xa4\\xe7\\xb5\\xad.\\x10\\\\4-\\r\\x89p\\xef\\\\\\x12\\xeb\\xda\\xd6\\x8d\\xd3\\x1a\\x01i{N\\x9f\\x8aA\\x81&\\x00\\x05\\xb3\\xac\\x8b\\x98Z\\xabB\\xd5\\x8e\\xa5LM\\xc9\\xcb\\xcf\\xf1\\x01\\xe3\\x11\\x1eJ|\\x80\\xefk\\x8b\\xd8\\x08I\\x86\\xc1\\x97\\xb0\\xbc\\x02\\x03c1\\x10E\\xc4\\x89n\\xb7\\xb5\\xc2\\x9a\\x95\\x10\\x03\\x0b].\\xccd\\x11\\xdd\\x1bf\\xccm\\x11\\x131\\xe9t7\\xed\\x05\\xfb#4\\xc1\\xfc\\xc0\\xf2\\xb4\\x96\\x8f\\x00.\\x9bQ\\xe6r\\xf7\\xba\\x00\\xcb\\xc79\\xd9%J\\xafhse\\xb31\\xde\\x13\\x03\\xc8\\xdf\\xceW?\\xf1\\x17\\x14\\xafJH\\xa6\\x03O\\xe6k\\x88h:FF\\xc0\\x16\\x8de\\x10\\xc5\\t\\xbe\\x19p\\x8a}\\x1b\\xed\\xa9\\xfe\\xa4Zc0\\x93\\xacY\\x148\\xbb\\x0b\\x8d&Nx\\x9b\\x01\\x94\\x03\\xb92n9/<~3\\x11SI\\x13hh ~\\xcb\\xa1\\xf8>)\\xb5\\xe1\\xdf\\x8c\\xb8f\\x13x\\x81\\x13\\xf3[\\xcf\\x0cq\\xc1\\xb5\\xd9\\xba\\x82GP\\xc2Z\\xd97\\xb0\\x1b\\xee#\\xd7\\xee\\xb9\\x9e1\\xc7\\x05\\x07Hl\\xbeN@t\\x11\\xf9\\x9d\\xcdu\\x18\\x9a\\x80\\x86\\xe5q$H\\x83f\\x81\\xb4x\\xddr\\x7f\\x16\\xf0\\xc2\\xe6\\xb6\\xa3F\\x93>\\x1b\\xfa\\x15\\xcd\\xf1\\xa4\\xbe\\xdf\\xce\\x11\\x9f,\\xe5+\\xd6\\xa9^\\xa1{\\x89s\\x9cd\\xf4\\xe8\\x06\\xc1^\\xc3\\xb7\\xb36\\x99PR\\xa7\\x97E.c\\xbd\\xd7\\xaa\\xe4=\\x8d\\x8a!\\xe6*\\x02dhT\\xb5\\xebVt\\x17Tq\\x8d%\\xc4*\\x18<Q\\xfc3\\xae\\x9a+\\x15\\xf1nn\\xad\\'\\xc6G\\xcdE\\x86\\xec\\x9a\\xa6.\\xb1\\x17;tY\\x15\\xf0\\xe4\\x993=V\\xa3q\\x12\\xd9\\xcb\\x1e\\xfa\\xaaUq&`2\\xc9\\xa9WA\\xbb}\\x94N\\x1c\\xa6\\x9c;\\x96\\xad*\\xc1\\xdb\\x10\\xa7\\xca\\xdfp\\xab\\xec\\x0b0\\r#\\xc90\\xb0\\xf2]\\x0f`\\xd2=\\xca\\x0e\\x11\\xb1\\xa2{\\x8fc\\x9cH\\xba\\x03\\x83i\\xf6\\x14u8p\\xf6\\x11\\xb2\\x1e\\xc6\\x19B\\xd8w\\x0c\\x1e\\xec\\xa1w\\x0cOd\\x1b#1\\n\\xf3\\xb8k\\x94n\\xc08\\'h,\\xaa\\x91Lp\\xee\\xe4\\x98i\\x9eI\\x8c\\x8c\\xa1)\\t\\x10\\x07]\\xfd\\x83\\x1d\"\\xe0\\xf5Ukp\\xe2\\r\\x88+V\\x9f861a\\xcd6\\xbcj5\\xfd\\xd7\\x11\\x81\\x8a\\xec\\x13\\x82\\xa9\\x8b\\xc0\\x1dwZ\\xf2B\\x9a\\x9b\\x05A\\x94\\xfa\\x8e\\xa9\\xa94\\xf8\\x05\\xc1\\x91\\xc3\\xb8\\x91i\\xc9U\\xce\\x1b\\x07L\\x8f5\\xd1\\x00\\xec\\xb2\\xc75\\xe27\\xd6\\xfc\\xaf\\x05c\\xe3\\xf8f[\\x11=y\\xf8\\x05B\\x8dJ\\x94Ot\\xc8\\xe4\\x94\\xf1\\xa9\\xf2\\xbb)\\xf2t\\x0c\\xc5lL\\\\t>\\x87E#r\\xce\\xb1\\xd7oNK:\\x9f\\x12eK8\\t\\xe4\\xed|\\x94\\xa2\\x8c\\xdd\\x8f\\xb7\\'\\t\\x1e\\x04\\x8b\\xac\\x1e:\\xef\\x82\\x1a-\\xdc\\x1b8\\x10u\\x83\\x1e\\x89\\xc5\\xc2\\x0c\\x032\"M\\xe2\\x0e\\xdez\\xac\\xd7b\\x1e\\xcdZ\\xe06 f\\x1eYo\\x1e!:\\x9f\\x15\\x04\\x8c\\xc4n6\\x9eW\\x06\\xe1?\\xaeO\\xa1j\\xcd\\xcc\\x0f\\x17\\xadJr=\\xed\\x04e0m\\x96g/\\x84\\xc9V\\x1b\\xc4;\\x808\\x88\\x13\\x07Bf,H\\xd6:\\xac:X\\xe6\\xff\\x00\\xb4r\\x11\\xe5\\xe4\\x95\\xb5Y7\\x02\\xfc\\xbf\\x95\\x0e/\\xc8\\xab\\xd9\\xb5[\\x89\\x12 \\xdd\\xb6\\x89\\x1d\\xe1\\x02\\x00\\x07P\\xde\\x8a<s\\x83\\x9a\\xe1\\xd7Bf\\'\\xe45\\x0b*\\x9df\\x97j\\'\\xa9P\\xf1~,\\xd64\\xb4Aq\\x16\\x1a\\xf9\\x94\\x9699*)D*R~f\\x80\\xc7K\\xff\\x00\\x08\\x00\\x92\\xe9\\xd2\\x00\\xde\\xeb\\x10\\xd6u\\x1a\\xc0\\x82c~\\xa0\\xea\\n\\xd1\\xa5\\xc5j\\x0c\\xa49\\xcdsCa\\xc1\\xc48\\x16\\xe9\\x94\\x8b\\x85C\\x15\\xdf\\x99]\\xea\\x92\\xa6l\\xa4\\x92;L=l\\xcd\\x90\\x7f\\x8f\\x05!\\xef6\\x0e\\x97\\xb7\\x8d\\x979\\xf0\\xff\\x00\\x11%\\xb9\\x1c{\\xcd:s\\x1e+k\\xb4;\\x0b\\x1f5\\xe6\\xe5\\xc4\\xe3&\\x8c$\\x9d\\x9c\\xb6;\\r\\xd9\\xbc\\x8d\\xb6\\xf0Q\\xe1\\xe8\\x97\\xb84\\x0b\\x93\\x03e\\xbf\\xc5\\xa8\\xe7nkH\\x88Pp\\x1c0.\\xce\\xfd\\x1al7\\'\\xec\\xba\\xe1\\x92\\xe3f\\x90\\x8b\\x93H\\xcf\\xc5p\\xd7\\xd3\\xb9\\xb8\\xe66M\\xc3b\\x0e\\x93n\\xabc\\x8c\\xf1\\x06fs\\x19\\xa1\\xb1\\xb4\\xc70\\x16\\x13\\x9a6V\\x9d\\x8f\"I\\xd2/\\x9cdX\\x99\\xe6vPViy\\x90m\\t\\xd8\\\\\\x1c\\x89&9+\\x0e\\xc3\\x96\\xe9\\x08\\xba \\x86\\x8d\\x125>\\xc2\\x9b#cyM\\xad\\x9a,\\x011\\n\\x1c/i1\\x07\\xaa,,\\xb4(7\\xfc\\x92\\x8aGF\\xb8Y?\\xb3\\x98\"z\\xf4L\\xcb\\xe0\\x8b\\x0b\\x1cX\\xe1\\xa1\\x07\\xcc~\\xa9\\\\\\x1e/\\x92G\\x974\\xd6\\x82\\n~wXI\\xf5E\\x85\\x83\\xea\\x11g\\x027M\\xedG\\xcbH\\x94T\\x98\\xde\\x0e\\xfe\\xe5fbK\\xb3jSLvi\\x1a\\xad\\xe9)\\xa4\\x83y\\xb1\\xea%e\\ne\\xdb\\x15f\\x86\\x16\\x0c\\xb8\\xab\\xb0\\xb2\\xd0\\xa67\\xf7\\xd6\\xc8v\\x1cr\\t\\x0b\\x01\\xd0\\xc0\\xeb\\xfa\\'\\xe4 \\xd8\\xcfO\\xd9\\x1b\\x05\\x90\\x9c\\x1bN\\xca\\x17p\\xf0to\\xc9[\\xc8\\xe2L\\xeb\\xb7\\xec\\xa3\\x93\\xd5R\\x99Vl\\x08\\x16\\x1ax\\xa9\\x1c\\xd9\\x1e\\xec\\x92\\x9d\\x13\\xc8\\xfd\\x02\\xb0\\xdc9\\x1a\\xc7^k\"\\x08iau\\x04\\x0f\\x1f{\\xa7\\xb3\\n\\xc6\\xdcj~\\xfd\\x15\\xb6\\xb4\\x03a2\\x0c\\x9bw|\\xc8O8x\\x01\\xef:\\x8b7\\xa7\\xb2\\x8a(\\xa5^\\x83^\\xd2\\t\\xeb0W?Z\\x87H\\x8e^\\xfcWSN\\x96s\\x02$\\xda\\xfb&b\\xb8X\\xca\\x08\\xd6L\\x9d\\x88\\x8e\\xbb\\xf8sH5\\xb5g\\x1f_\\n\\t\\xbf\\x975\\x1bK\\xe9\\x90Zg\\xa3\\xb7[\\x98\\x8c$\\\\\\xb0\\x8b\\xf7H\\xd3I>6\\x85\\x9b\\x88\\xc3\\x1eW\\x93{\\xfb\\xfeS\\xfe\\xc4\\xf4OK\\x8b\\xb0\\xc6f\\x96\\x1f\\xff\\x00>\\xa9\\xd8\\x8c]\\x12!\\xcek\\x81\\x13\\xb1\\xd4\\x03\\x1d\\x0f5\\x9a\\xf6@\\x16\\xde?ej\\x88awt@\\r\\xbd\\x8e\\xa4\\xf5q\\x9boo\\x05?\\\\|\\x05!\\xbcC\\x05M\\x86\\r\\'4\\xc4\\xc0%\\xb25\\x98\\x1a\\xea\\x16ml0\\xbeR\\xf1\\xe2\\xe9\\x1e\\x8bI\\xf8h\\xbbt\\xf2\\x1a(2\\x13\\x7f\\xe6U\\xc5\\xb44\\xe8\\xcc\\xfe\\xd4\\x8b\\x87_\\xcf\\xea\\xa4\\xa3\\x85\\x83$\\xca\\xd087k\\x1b\\xc7D\\x0c!\\xe4\\xad\\xcd\\x86\\xcc\\x89\\xad\\xb2\\x7f\\xf6\\xe7]\\x95\\xa6a\\xfdS\\xd9Jz,\\x84eU\\xc2\\xbd\\xa4=\\xba\\x8f\\x9a\\xd8\\xe1\\x9cG8\\xb8\\xb8\\xd4n\\x9ch\\xc7]:\\xea\\xaa\\xe2pd\\x9c\\xec9\\\\=\\x1d\\x1c\\xc2n\\xa6\\xaaE&\\xbaf\\xab\\xfb\\xc26\\xe5\\xb8\\xfb(\\xdfH\\xfe&\\xd8\\x81\\x064=~\\x8a<\\x07\\x10\\x0f\\xeeTnW\\x0e\\xb6=A\\xddj>\\x88\\xec\\xcb\\xb3\\xf7\\xa4w \\x92\\x1b\\xfee\\xd1\\x00I\\x03\\xac\\xec\\xb9\\xd5\\xe3t;\\xd7\\xa3\\x1a\\xa6\\x0fx\\xf1Ln\\x1d\\xba\\x81+{\\x05TZG\\xbfeN{\\x17\\x0e\\xf3D\\xce\\xa7a\\xa4\\x11\\x1a\\xe9\\xba\\xb5+&\\x8e|\\x1106\\xf9)\\x1a\\xd7\\x1d?e\\xb1[\\xfbjl\\x9b\\xe7\\xbf\\xf8\\x86\\x81\\xb6\\xb3\\'[@\\xda\\xea\\xb6/\\x89Rx\\x00\\x0c\\xb1\\xa4k\\xae\\xebMJ\\x8c\\x13\\xf2R\\xa9\"3\\x01\\xbf/{$\\xedw\\x85\\x16&\\xb4\\xba\\x1b{\\x98\\x9dH\\xd9G\\xfd\\xce\\xc4DO\\xc9KTL\\xd2N\\x91s\\xb7:K\\xa3X\\xf0\\xea\\x91\\xb5G/-Uf\\xd6\\x1c\\xd4\\xb9\\xc1\\xe9\\xf4A\\x04\\xc3)\"\\xd3}&\\xc7\\xa1\\xbd\\x92@\\xea~\\x9a\\xde\\x1427\\xf3\\xe4\\x86\\x0eH\\x02Z\\x8d\\x13\\x00\\xcf+\\x1f\\xdd5\\xcc\\x17\\x8ebP\\x04\\xef\\xf6M\\x03\\xaf\\xbf4\\x0c\\x0bF\\x96\\x9f\\x9c\\x1f\\rR\\x16\\x004\\x9d\\xe5H\\xe0w\\x8f.\\x8a2\\x11`1\\x8c\\xe8o\\xa7\\xf2\\x877\\x92y#\\xaaq\\xabk\\x1bBv\\x03\\x06\\x1c\\xeb6\\xe8Rvg\\xfc\\x95\\x86\\xe2\\xa4\\x02@?+{\\xfa#;?\\xc7\\xd1\\xc8\\xb0;fQk\\x88\\x8b\\xce\\x9a\\xdc\\xc7\\x84\\x05.#\\x00\\x1a%\\xc3\\xd0\\x8fH\\xe7e\\xa5\\x85\\xc5R\\x00\\x9e\\xcc\\x02N\\xbb\\xc6\\x86\\xea\\xcb\\xf1\\x14\\t\\x04\\xb6o\\xd0\\x80b\\xc64\\xdbB\\xb6\\xa2\\xe8\\xc1\\xab\\x82kZ\\t\\x17:6$\\xe97\\rP\\x7f`\\xd7\\x9b\\x925\\xb9\\x91\\xa6\\xb0c\\xa8+\\xa0\\xaa\\xcaD\\xf6\\x99\\x84\\xcd\\xe4@>s0-\\xa6\\xabK\\x0f\\x87\\xa0\\x01\\xb9l\\x00`\\x13\\xa8\\'s\\xe2-\\xcc\\x8f\\x144\\x08\\xe4\\xbf\\xf4\\xc0\\xd0\\x1d\\x98_\\x99\\x00Xs0\\xabT\\xc1\\xb8\\x9d&\\xe3\\xca\\xdaYv8\\xac;\\x1f\\xdc\\xcc \\xeb\\xf8l\"@\\x9e\\x7f\\xacuY\\xcd\\xf8h8K^\\xd0\\x1d\\xa9 \\xc0\\x00\\xc9!\\xc2\\xda\\xfd\\x11\\xa8\\xd9\\xcb\\xe2\\xb0\\x0es.\\x0f1\\x03KB\\xcb~\\t\\xediq\\x0evPI1k[\\x7f\\x11\\xf2]\\xc5o\\x86\\xaaA\\x7fh\\xc1\\xde\\x00C\\xec\\x08\\xd1\\xa7ah\\xb4z\\xadl\\x1d\\x17\\xb4\\x86b\\xa91\\xcd\\xcb\\x19\\x98\\x03\\xa5\\xc6\\xe4>\\x0eb\\xdb\\x0b\\x08\\xf0\\x84\\xb5\\xb2Y\\xe1\\x98\\xba\\x9d\\xa3\\xae\\xe09L\\xc4\\xdf\\xdd\\xd5\\x96a\\x1fI\\xc00\\xf6\\x87(.\\x11\\xdd\\xb9\\xfc\\xb7\\x97\\x8b\\x82\\r\\xa4\\x1d\\x17\\xb7\\xb7\\x85`\\x1a\\xd79\\xb4\\x00a2\\xe6\\x06fc\\xf2\\xcc\\x12\\xc3-\\xff\\x00-\\xa7\\xd4\\x83B\\x8f\\xf4\\xf7\\x0bQ\\xf4\\xebQ0\\xe6\\xd8\\x80\\xdc\\xad\\xd4\\xc1\\xca[\\xdd{v:\\xdaI\\x94\\xf4aL\\xf2\\xae!\\xc1\\xf1T\\x9e\\xd6W\\xa4\\xea@\\x89\\x82\"GO?\\xd7\\x91R\\xd0\\xc1u\\x80\\x06\\xba\\xc0\\x99\\x80\\xbdO\\x1f\\xf0MG\\xc9/$\\x81i.q @\\x90\\x08;\\xe6\\xb2\\xa1_\\xe0:\\xc1\\xa5\\xd0\\x0cj\\x01\\x13\\xf3\\xb7\\xcd-\\x18Q\\xe7\\xc6\\x88\\xbd\\x8e\\xb6\\xd1%<>\\xf7\\xe7\\xb2\\xecG\\xc2u\\x1d\\xad7\\xb4\\xc1\\x8c\\xc3,\\xdau\\xe5\\xf3Y\\\\w\\x87\\x7ff\\xd6\\xbe\\xab\\x9bw\\x96\\x80\\x0c\\xbb3u\\x19cm?\\x94\\xb5`aWn@I\\x02\\xc0\\xde\\xe3m}\\xf2Y\\x98\\x12^\\\\\\xe25 z_\\xec\\xb6\\xdc\\xec&#\\xff\\x00s\\x10i\\x0b\\x99\\xec\\xde\\xf7H\\x16\\x19A\\x03U>\\x03\\x82\\x8c\\x99\\xa9\\xbaZ\\x04\\xb8\\xcc\\xc1;\\x98\\xd3\\xf4S\\xa8\\x8c\\xb6\\xd2\\x066\\xb8\\x9f\\xae\\xe9\\xaf`>\\x1a{\\x0bhp\\xc7\\t\\xd7}E\\xbep\\x14g\\x85\\xf3#\\x9e\\xfb[m\\x11@b\\xd6\\xc1\\xb5\\xf0\\x1c4\\xd0\\x8dd\\xf2(\\xa3]\\xcc!\\xaf\\x877L\\xe0\\xc7\\x86a\\xb6\\xda-\\x87\\xf0\\xe7_H\\xbe\\x87}\\x95W\\xe0\\x9dqy\\xdc}R\\x94mS):\\x0cKK\\xdaH\\x99\\x9d\\xb9\\x0b\\xde4\\x1a*\\x0c\\xa25\\x81owWh\\x070\\x80|\\xa6\\x0f\\xa8:\\xdb\\xe8\\x9b\\xc4\\x1a\\xd6\\x1b\\x19\\x06\\xe0X\\x9b\\xe9#\\x9a\\x88&\\xb8)\\xab\\\\\\x14\\xc3G!\\xfc$\\xaa\\xd2\\\\\\xd2\\xd19N\\x86\\xe3Y\\xbc\\xd8\\x8f\\x15i\\xb4\\xa4\\x024\\xf7\\xa2n\\x9e\\xfe\\xea\\x8c\\x8c\\xcf\\xeer\\xc8\\r\\xefnN\\xbf\\xb2\\xafM\\xe6\\xebZ\\xbe\\x1f?\\xe1\\x89\\xf4\\xf33\\xe6\\xab\\x0e\\x15P~Y\\x11&$\\xc4F\\xbc\\xb5\\xf9\\x14\\xd0\\x15\\x1a\\xe5`U\\xfa)\\xaa\\xf0\\xc75\\xb3\\x1c\\xb7\\xf9G\\xbf%Y\\xcc\\xe8y\\xf8\\xa4\\x03\\x85`\\x9fN\\xaf]&\\xca\\x9dF\\xdd7)\\x89N\\x80\\xd5\\xa7]\\xbf\\x98_\\xe4\\xa6ii\\xfd \\xacv\\x92.\\xada*\\xc7\\xaaT\\x05\\xccC=6P\\x05(\\xa8\\t\\xbb\\xbd\\xfb\\xfa\\xa9\\x01o\\x97\\x8a\\x07Ea){2\\xa7\\x99\\xf4\\xe9\\xa7\"\\x946~@~\\x96@\\x8a\\xce\\xf0P7\\rQ\\xd7\\xd1h\\x16\\xf4\\xf7\\xe4\\x83\\x7fq\\x1d\\x10\\x07TqM\\xb3A\\x11\\xbd\\xf6\\xd19\\xb8\\xa1q\\xf2\\xb6\\x9c\\xe0\\xf8$B\\xd5\\x97d\\xed\\xc4M\\x81=\\x13\\x9f\\xc4\\x8e\\x81\\xdaXx\\xef\\xf5)\\x10\\x8b\\x0b\\x11\\xb8\\xf2\\xe8\\x12N\\xc2\\xfd4=\\x14\\x8f\\xe2\\x8e\\x02\\xc2\\xf1\\xb5\\xf5\\x17\\xb9\\xf6\\x10\\x84[\\x01Y\\xc7\\x1c\\xdc\\xa2M\\x8c\\xf5\\x9eg\\xce\\x13*\\xf1\\xf78\\x16\\x97N\\x84\\xd8\\x19\"by\\x8b\\x94\\x88Kf\\x84\\xcb\\xe3\\xe2W5\\x9f\\x96\\xfc\\xf3w\\x8fX>\\x1a\\xad<\\x07\\xc7/o\\xe2\\x88\\x83\\xa4\\x1d\\xac \\x9fr\\x91\\n\\x94\\x98\\xae\\x8b\\xec\\xfe\\xa04\\xfeK\\xc5\\x89\\x00\\xfc\\xbc\\xc7\\xa1Z8_\\x8ch\\xd4\\xff\\x00\\x8a\\xa9k*\\x10\\xe2\\x05\\xdb0@lf\\xb93\\xcbH\\x9d\\x90\\x85Jl{:5\\xcf\\x13\\xa4[\\x98]\\xc1\\xad0Ii$\\x98\\x13#\\x9f\\xd5y\\xb7\\xf5\\x1f\\x84\\xf6\\xb8p\\xfa\\x18ys\\xab\\xd4\\xa8\\xf2\\xc7\\x97\\xd4\\x82\\t$\\x88\\x01\\xa0A\\x04^\"\\x10\\x84\\xe4\\xad\\x15\\xd9\\xc0|5\\xc2p\\xb5j\\xb9\\x98\\xba\\xee\\xc3\\x80\\xd9\\x07\\xb3\\xcd\\xde\\xe4okt]\\x8f\\xf4\\x8f\\x86\\xd3v6\\xbbEi\\xa4\\x18\\xed\\x0b\\x98j\\x00\\xe0\\x01\"E\\xb7\\x83(B\\xca.\\xe4J=\\x8a\\x9f\\x0b\\xa0\\x1b\\xdd`#\\xc9\\xd3\\xd2N\\xb7\\x03\\xd1s\\xdf\\x13\\xf0j=\\x91{\\xe1\\xad\\x82I\\xc87\\xe9\\xe8\\x10\\x85\\xd0\\xd2\\xa2\\xeb\\x83\\x87\\xc4a\\xb2\\xbb(l\\xb4\\xc48\\xb0\\xc1h\\x89\\xcb\\x1e:\\xff\\x00\\xaf\\x92{\\xb0\\x04\\x8b\\x86N\\xa4\\x10[\\x02\\xdb\\x13}\\xe6\\xdb\\x14!sXQB\\xaf\\r\\x0f\\x04H&\\x04C\\x9b:j\\t\\x1be\\xfa\\xaeG\\x88\\xd0{_\\x92\\xa4\\xf6\\x80\\x91\\x96 \\xc6\\xc4nd\\xce\\x88Bc\\x83\\xa3_\\x07\\xc3\\xf21\\xad\\xa9!\\xe7PZm2u\"\\r\\xbd\\x94\\xda\\x986I\\x19\\xa3\\xc7\\xa0\\x9f\\xbaT)\\xb39{#g\\x0e\\x06\\xcd\"go\\x0b\\xe8ym\\xe2\\xa7\\xa7E\\xc3\\x91\\x1e\\x04mpy!\\x08\\xa2Q1t\\x08-:\\xc5\\xe3X \\x8e\\x9eQ\\xa2\\xa1\\x8e\\xe1}\\xa5\\xd8@ \\x00\\x1ag\\xa4\\xcc\\xf5\\x9b\\xf8\\xcd\\xd2!\\x021\\xdd\\xc1j\\xc9\\x90\\x0c\\x18\\x90A\\x04\\xe9\\x12\\xa3\\x7f\\x0csOx9\\xb61\\xae\\xbd:[\\xe6\\x84\"\\x86GS\\r\\x94K\\xa4\\x0ev\\x8b\\x89\\x8e\\xb6\\xd9Ry\\xbf\\xbf$!\\x08\\t)<\\x93}\\xbc\\'\\xe7\\xbd\\xd6\\x9e\\x1d\\x8e \\xf7O\\xa1\\xd0\\xf5\\x1b}\\xd2!? \\xf8\\'kDN\\x9e\\xfaj\\x95\\xad\\x02fcM\\xe2F\\xa8BV\\x87bX\\x8b\\x13 \\xda\\xde>\\x9a{\\xd5=\\xadi\\xba\\x10\\x86\\xc6\\x7f\\xff\\xd9'}"
            ]
          },
          "metadata": {
            "tags": []
          },
          "execution_count": 30
        }
      ]
    },
    {
      "metadata": {
        "id": "eRy8lcOMXqi5",
        "colab_type": "text"
      },
      "cell_type": "markdown",
      "source": [
        "Verification of downloading files"
      ]
    },
    {
      "metadata": {
        "id": "Hig0d3VOBplC",
        "colab_type": "code",
        "outputId": "2cd5b92d-e09d-4699-d26d-3aa101634c5d",
        "colab": {
          "base_uri": "https://localhost:8080/",
          "height": 66
        }
      },
      "cell_type": "code",
      "source": [
        "!ls"
      ],
      "execution_count": 31,
      "outputs": [
        {
          "output_type": "stream",
          "text": [
            "cifar10_model.h5  cifar10_model.json  frog1.jpg  sample_data\n"
          ],
          "name": "stdout"
        }
      ]
    },
    {
      "metadata": {
        "id": "Ep-7TkvbXunR",
        "colab_type": "text"
      },
      "cell_type": "markdown",
      "source": [
        "**Looking to downloaded image**"
      ]
    },
    {
      "metadata": {
        "id": "DpEJyRjDXUuh",
        "colab_type": "code",
        "outputId": "66d1b5a5-eb5f-4d71-ca1d-46b9e862ff25",
        "colab": {
          "base_uri": "https://localhost:8080/",
          "height": 266
        }
      },
      "cell_type": "code",
      "source": [
        "img_path = 'frog1.jpg'\n",
        "img = image.load_img(img_path, target_size=(32, 32))\n",
        "plt.imshow(img)\n",
        "plt.show()"
      ],
      "execution_count": 32,
      "outputs": [
        {
          "output_type": "display_data",
          "data": {
            "image/png": "[encoded data removed]",
            "text/plain": [
              "<matplotlib.figure.Figure at 0x7f5d875704a8>"
            ]
          },
          "metadata": {
            "tags": []
          }
        }
      ]
    },
    {
      "metadata": {
        "id": "KTwbT6byXyrC",
        "colab_type": "text"
      },
      "cell_type": "markdown",
      "source": [
        "**Reshaping image to array**"
      ]
    },
    {
      "metadata": {
        "id": "QTdXEhQ3X13R",
        "colab_type": "code",
        "colab": {}
      },
      "cell_type": "code",
      "source": [
        "x = image.img_to_array(img)\n",
        "x /= 255\n",
        "x = np.expand_dims(x, axis=0)"
      ],
      "execution_count": 0,
      "outputs": []
    },
    {
      "metadata": {
        "id": "oeeqy0cjX7j6",
        "colab_type": "text"
      },
      "cell_type": "markdown",
      "source": [
        "**The start of recognition**"
      ]
    },
    {
      "metadata": {
        "id": "cVIxQljlX-LZ",
        "colab_type": "code",
        "outputId": "53927ae8-e5b9-418d-bbb5-b17ef84791fd",
        "colab": {
          "base_uri": "https://localhost:8080/",
          "height": 35
        }
      },
      "cell_type": "code",
      "source": [
        "prediction = model.predict(x)\n",
        "prediction = np.argmax(prediction)\n",
        "print(classes[prediction])"
      ],
      "execution_count": 34,
      "outputs": [
        {
          "output_type": "stream",
          "text": [
            "frog\n"
          ],
          "name": "stdout"
        }
      ]
    }
  ]
}